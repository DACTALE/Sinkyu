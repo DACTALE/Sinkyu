{
 "cells": [
  {
   "cell_type": "code",
   "execution_count": null,
   "id": "a064ac8e",
   "metadata": {},
   "outputs": [],
   "source": [
    "import os\n",
    "\n",
    "# 画像が保存されているフォルダのパス\n",
    "folder_path = '/faces'\n",
    "\n",
    "# フォルダ内のすべてのファイル名をリストに格納\n",
    "file_names = os.listdir(folder_path)\n",
    "\n",
    "# 画像ファイルのみ選択し、そのパスをリストに格納\n",
    "img_files = [os.path.join(folder_path, f) for f in file_names if f.endswith('.png') or f.endswith('.jpg')]\n"
   ]
  }
 ],
 "metadata": {
  "kernelspec": {
   "display_name": "Python 3 (ipykernel)",
   "language": "python",
   "name": "python3"
  },
  "language_info": {
   "codemirror_mode": {
    "name": "ipython",
    "version": 3
   },
   "file_extension": ".py",
   "mimetype": "text/x-python",
   "name": "python",
   "nbconvert_exporter": "python",
   "pygments_lexer": "ipython3",
   "version": "3.11.4"
  }
 },
 "nbformat": 4,
 "nbformat_minor": 5
}
